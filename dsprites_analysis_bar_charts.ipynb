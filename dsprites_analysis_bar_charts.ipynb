{
 "cells": [
  {
   "cell_type": "code",
   "execution_count": 1,
   "metadata": {
    "colab": {
     "base_uri": "https://localhost:8080/",
     "height": 390
    },
    "colab_type": "code",
    "id": "lo963yp9xopk",
    "outputId": "36ebd71a-742e-4159-cc71-bbbb342e19a8"
   },
   "outputs": [],
   "source": [
    "import numpy as np\n",
    "import matplotlib.pyplot as plt\n",
    "from dsprites import imshow, make_grid\n",
    "import tensorflow as tf\n",
    "\n",
    "import run_dsprites_models as dsvae\n",
    "ds = dsvae.download_data()\n",
    "EPOCHS = 100 #35\n",
    "LATENT_DIM = 10\n",
    "BATCH_SIZE = 32\n",
    "TR_SIZE = 550_000 #500_000\n",
    "#^these need to be the same as the run that produced the model weights"
   ]
  },
  {
   "cell_type": "code",
   "execution_count": 2,
   "metadata": {
    "colab": {},
    "colab_type": "code",
    "id": "b7RMktx3xop8"
   },
   "outputs": [],
   "source": [
    "def display_model_random(model, x):\n",
    "    '''displays a random set of original and reconstructed imgs\n",
    "    :param model: a vae model to reconstruct from\n",
    "    :param x: a numpy array representing the images\n",
    "    '''\n",
    "    z, *_= model.encode(x) # should return z (latents) and mean/logvar\n",
    "    x_recon = tf.nn.sigmoid(model.decode(z)).numpy() # generate reconstructed images\n",
    "    fig = plt.figure(figsize=(20, 20)) \n",
    "    ax1 = fig.add_subplot(121)\n",
    "    ax2 = fig.add_subplot(122)\n",
    "    imshow(make_grid(x), title='Original', ax=ax1)\n",
    "    imshow(make_grid(x_recon), title='Reconstructed', ax=ax2)\n",
    "    fig.subplots_adjust(wspace=0.01)\n",
    "    plt.show()\n",
    "    \n",
    "def plot_losses(losses):\n",
    "    '''given an array of losses, plots'''\n",
    "    plt.plot(losses)\n",
    "    plt.title(\"Average epoch loss\")\n",
    "    plt.xlabel(\"Epoch\")\n",
    "    plt.ylabel(\"ELBO loss\")\n",
    "    plt.show()\n",
    "    \n",
    "def grab_img(set, num):\n",
    "    '''grabs numth (0index) image from set'''\n",
    "    return np.array([set[num]])\n",
    "\n",
    "\n",
    "def step_latents(img, model, size=1, num_var=5):\n",
    "    \"\"\"varies each latent up and down by step size\n",
    "    :param img: nparray of img (1,64,64,1)\n",
    "    :param model: the model to encode with\n",
    "    :param size:=1 the step size to vary latents\n",
    "    :param num_var:=5 int) number of steps up (will automatically \n",
    "    do same num steps down)\n",
    "    \n",
    "    TODO: take a vector in order to vary the steps non uniformly\n",
    "    \n",
    "    :return tensor object of latent encodings for all step variations \n",
    "    of each latent (tf.Tensor([[...]...],shape=((num_var*2+1)*LATENT_DIM,LATENT_DIM),\n",
    "     dtype=float32)\n",
    "    \"\"\"\n",
    "    #x = ds.subset(size=1)\n",
    "    z, *_ = model.encode(img)\n",
    "    #print(z)\n",
    "    z0 = tf.identity(z)\n",
    "    #print(z0)\n",
    "    array = [[0,0,0,0,0,0,0,0,0,0]]\n",
    "    for apos in range(LATENT_DIM):\n",
    "        array[0][apos] = 1\n",
    "        zr = tf.identity(z0)\n",
    "        for step in range(1,num_var+1,size):\n",
    "            temp1 = [i*step for i in array[0]]\n",
    "            tempn1 = [i*((-1)*step) for i in array[0]]\n",
    "            #print([temp1])\n",
    "            #print([tempn1])\n",
    "            t1 = tf.add(z0,[temp1])\n",
    "            tn1 = tf.add(z0,[tempn1])\n",
    "            zr = tf.concat([tn1,zr,t1],0)\n",
    "        array[0][apos] = 0\n",
    "        if apos == 0:\n",
    "            z = tf.identity(zr)\n",
    "        else:\n",
    "            z = tf.concat([z,zr],0)\n",
    "    return z\n",
    "\n",
    "def qual_latent_analysis(img, model, size=1, num_var=5):\n",
    "    \"\"\"varies each latent up and down by step size\n",
    "    :param img: nparray of img (1,64,64,1)\n",
    "    :param model: the model to encode with\n",
    "    :param size:=1 the step size to vary latents\n",
    "    :param num_var:=5 int) number of steps up (will automatically \n",
    "    do same num steps down)\n",
    "    \n",
    "    TODO: take a vector in order to vary the steps non uniformly\n",
    "    \n",
    "    :return displays graphic for visual analysis\n",
    "    \"\"\"\n",
    "    z = step_latents(img, model, size, num_var)\n",
    "    #print(z.shape)\n",
    "    z_dis_recon = tf.nn.sigmoid(model.decode(z)).numpy()\n",
    "    imshow(make_grid(z_dis_recon, nrow=num_var*2+1, pad_value=1))"
   ]
  },
  {
   "cell_type": "code",
   "execution_count": 3,
   "metadata": {
    "colab": {},
    "colab_type": "code",
    "id": "GGPvEiRHxoqO"
   },
   "outputs": [],
   "source": [
    "# save vae models and txt file strings as variables\n",
    "v = [\"vae0.5_weights_100e_550ktr.h5\",\"vae1_weights_100-300e_550ktr_suptest.h5\",\n",
    "    \"vae2_weights_100e_550ktr.h5\", \"vae3_weights_100-300e_550ktr_suptest.h5\",\n",
    "    \"vae4_weights_100-300e_550ktr_suptest.h5\", \"vae5_weights_100-300e_550ktr.h5\",\n",
    "    \"vae6_weights_100e_550ktr.h5\", \"vae7_weights_100e_550ktr.h5\",\n",
    "    \"vae8_weights_100e_550ktr.h5\", \"vae9_weights_100e_550ktr.h5\",\n",
    "     \"vae10_weights_100e_550ktr.h5\"]\n",
    "vl = [\"vae0.5_losses_100e_550ktr.txt\",\"vae1_losses_100-300e_550ktr_suptest.txt\",\n",
    "    \"vae2_losses_100e_550ktr.txt\", \"vae3_losses_100-300e_550ktr_suptest.txt\",\n",
    "    \"vae4_losses_100-300e_550ktr_suptest.txt\", \"vae5_losses_100-300e_550ktr_sup.txt\",\n",
    "    \"vae6_losses_100e_550ktr.txt\", \"vae7_losses_100e_550ktr.txt\",\n",
    "    \"vae8_losses_100e_550ktr.txt\", \"vae9_losses_100e_550ktr.txt\",\n",
    "    \"vae10_losses_100e_550ktr.txt\"]"
   ]
  },
  {
   "cell_type": "code",
   "execution_count": 4,
   "metadata": {
    "colab": {},
    "colab_type": "code",
    "id": "nHP9fhHvNMPB"
   },
   "outputs": [],
   "source": [
    "accs = np.load(\"vae13457_repeat_accuracies.npy\")\n",
    "accs5 = np.load(\"vae5_repeat_accuracies.npy\")"
   ]
  },
  {
   "cell_type": "code",
   "execution_count": 5,
   "metadata": {
    "colab": {},
    "colab_type": "code",
    "id": "G-bTsxfKMzfJ"
   },
   "outputs": [
    {
     "name": "stdout",
     "output_type": "stream",
     "text": [
      "[[0.73640001 0.74360001 0.74900001]\n",
      " [0.99800003 0.99580002 0.99760002]\n",
      " [0.99800003 0.99860001 0.99800003]\n",
      " [0.87699997 0.8872     0.88679999]\n",
      " [0.99860001 0.99940002 0.99839997]]\n",
      "[0.74300001 0.99713335 0.99820002 0.88366665 0.9988    ]\n",
      "[0.92160001 0.92492001 0.92596   ]\n",
      "[0.5, 1, 2, 3, 4, 5, 6, 7, 8, 9, 10]\n",
      "[1, 3, 4, 5, 7]\n",
      "[0.0051614  0.00095685 0.00028283 0.00471688 0.00043207]\n"
     ]
    }
   ],
   "source": [
    "print(accs)\n",
    "print(np.mean(accs, axis=1))\n",
    "print(np.mean(accs, axis=0))\n",
    "print([0.5]+list(range(1,11)))\n",
    "xrange = [1,3,4,5,7]\n",
    "print(xrange)\n",
    "print(np.std(accs, axis=1))"
   ]
  },
  {
   "cell_type": "code",
   "execution_count": 6,
   "metadata": {
    "colab": {
     "base_uri": "https://localhost:8080/",
     "height": 302
    },
    "colab_type": "code",
    "id": "ItEOuVSHOTs0",
    "outputId": "f972a10f-ad44-4292-9ab9-78f9a23815a1"
   },
   "outputs": [
    {
     "data": {
      "text/plain": [
       "Text(0, 0.5, '$\\\\beta$-VAE disentanglement metric score')"
      ]
     },
     "execution_count": 6,
     "metadata": {},
     "output_type": "execute_result"
    },
    {
     "data": {
      "image/png": "[encoded data removed]",
      "text/plain": [
       "<Figure size 432x288 with 1 Axes>"
      ]
     },
     "metadata": {
      "needs_background": "light"
     },
     "output_type": "display_data"
    }
   ],
   "source": [
    "fig = plt.figure()\n",
    "plt.errorbar(x=xrange,y=(np.mean(accs, axis=1)), yerr=(np.std(accs, axis=1)*2), fmt='o', markersize=3, capsize=6)\n",
    "plt.xlabel(r\"$\\beta$\")\n",
    "plt.ylabel(r\"$\\beta$-VAE disentanglement metric score\")"
   ]
  },
  {
   "cell_type": "code",
   "execution_count": 7,
   "metadata": {
    "colab": {
     "base_uri": "https://localhost:8080/",
     "height": 301
    },
    "colab_type": "code",
    "id": "pkZbM84AYK1O",
    "outputId": "2484f906-94fc-4dc3-8ad0-678562aead93"
   },
   "outputs": [
    {
     "data": {
      "text/plain": [
       "Text(0, 0.5, '$\\\\beta$-VAE disentanglement metric score')"
      ]
     },
     "execution_count": 7,
     "metadata": {},
     "output_type": "execute_result"
    },
    {
     "data": {
      "image/png": "[encoded data removed]",
      "text/plain": [
       "<Figure size 432x288 with 1 Axes>"
      ]
     },
     "metadata": {
      "needs_background": "light"
     },
     "output_type": "display_data"
    }
   ],
   "source": [
    "xrange5 = list(range(1,6))\n",
    "fig = plt.figure()\n",
    "plt.errorbar(x=xrange5,y=(np.mean(accs5, axis=1)), yerr=(np.std(accs5, axis=1)*2), fmt='o', markersize=3, capsize=6)\n",
    "plt.xlabel(r\"replicate for $\\beta$=5\")\n",
    "plt.ylabel(r\"$\\beta$-VAE disentanglement metric score\")"
   ]
  },
  {
   "cell_type": "code",
   "execution_count": null,
   "metadata": {
    "colab": {},
    "colab_type": "code",
    "id": "AdDAcokNdLbZ"
   },
   "outputs": [],
   "source": []
  }
 ],
 "metadata": {
  "colab": {
   "name": "dsprites_analysis_sup.ipynb",
   "provenance": []
  },
  "kernelspec": {
   "display_name": "Python 3",
   "language": "python",
   "name": "python3"
  },
  "language_info": {
   "codemirror_mode": {
    "name": "ipython",
    "version": 3
   },
   "file_extension": ".py",
   "mimetype": "text/x-python",
   "name": "python",
   "nbconvert_exporter": "python",
   "pygments_lexer": "ipython3",
   "version": "3.7.6"
  }
 },
 "nbformat": 4,
 "nbformat_minor": 1
}
