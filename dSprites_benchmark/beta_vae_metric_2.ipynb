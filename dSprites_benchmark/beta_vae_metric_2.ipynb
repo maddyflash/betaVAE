{
  "nbformat": 4,
  "nbformat_minor": 0,
  "metadata": {
    "colab": {
      "name": "beta-vae metric.ipynb",
      "provenance": [],
      "collapsed_sections": []
    },
    "kernelspec": {
      "name": "python3",
      "display_name": "Python 3"
    },
    "accelerator": "GPU"
  },
  "cells": [
    {
      "cell_type": "code",
      "metadata": {
        "id": "zzJpuBwlF-c5",
        "colab_type": "code",
        "outputId": "97307689-c72c-46f3-a762-ba30f4aaed18",
        "colab": {
          "base_uri": "https://localhost:8080/",
          "height": 34
        }
      },
      "source": [
        "%matplotlib inline\n",
        "%tensorflow_version 2.x\n",
        "\n",
        "import matplotlib.pyplot as plt\n",
        "import matplotlib.patches as mpatches\n",
        "import tensorflow as tf\n",
        "import numpy as np\n",
        "import math\n",
        "import typing\n",
        "import tqdm\n",
        "import os\n",
        "import itertools\n",
        "import copy\n",
        "import subprocess\n",
        "\n",
        "from pathlib import Path\n",
        "from enum import IntEnum\n",
        "from sklearn.decomposition import FastICA\n",
        "\n",
        "np.random.seed(42)\n",
        "tf.random.set_seed(231)"
      ],
      "execution_count": 1,
      "outputs": [
        {
          "output_type": "stream",
          "text": [
            "TensorFlow 2.x selected.\n"
          ],
          "name": "stdout"
        }
      ]
    },
    {
      "cell_type": "markdown",
      "metadata": {
        "id": "xDKTUTpmHHN3",
        "colab_type": "text"
      },
      "source": [
        "# Build a model according to specification (Tbl. 1 Higgins et al.)\n",
        "* **Input**  4096 (flattened 64x64x1).\n",
        "* **Encoder**  FC 1200, 1200. ReLU activation.\n",
        "* **Latents**  10\n",
        "* **Decoder**  FC 1200, 1200, 1200, 4096. Tanh activation. Bernoulli.\n",
        "* **Optimiser** Adagrad 1e-2"
      ]
    },
    {
      "cell_type": "code",
      "metadata": {
        "id": "xZ1GDvnQGKjc",
        "colab_type": "code",
        "colab": {}
      },
      "source": [
        "class VAE(tf.keras.Model):\n",
        "    def __init__(self, latent_dim=10):\n",
        "        super(VAE, self).__init__()\n",
        "        self._latent_dim = latent_dim\n",
        "        self.encoder = tf.keras.Sequential([\n",
        "            tf.keras.layers.InputLayer((64, 64, 1)),\n",
        "            tf.keras.layers.Flatten(),\n",
        "            tf.keras.layers.Dense(1200, activation='relu'),\n",
        "            tf.keras.layers.Dense(1200, activation='relu'),\n",
        "            tf.keras.layers.Dense(latent_dim * 2)\n",
        "        ])\n",
        "        self.decoder = tf.keras.Sequential([\n",
        "            tf.keras.layers.InputLayer(latent_dim),\n",
        "            tf.keras.layers.Dense(1200, activation='tanh'),\n",
        "            tf.keras.layers.Dense(1200, activation='tanh'),\n",
        "            tf.keras.layers.Dense(1200, activation='tanh'),\n",
        "            tf.keras.layers.Dense(4096),\n",
        "            tf.keras.layers.Reshape((64, 64, 1))\n",
        "        ])\n",
        "\n",
        "    def call(self, x): raise NotImplementedError\n",
        "\n",
        "    def encode(self, x):\n",
        "        h = self.encoder(x)\n",
        "        mean, logvar = tf.split(h, num_or_size_splits=2, axis=1)\n",
        "        return self.reparameterise(mean, logvar), mean, logvar\n",
        "    \n",
        "    def decode(self, z):\n",
        "        return self.decoder(z)\n",
        "\n",
        "    @staticmethod\n",
        "    def reparameterise(mean, logvar):\n",
        "        # log sig^2 = 2 log sig => exp(1/2 log sig^2) = exp(log sig) = sig\n",
        "        eps = tf.random.normal(mean.shape, mean=0.0, stddev=1.0)\n",
        "        return mean + tf.exp(logvar * 0.5) * eps\n",
        "\n",
        "BETA = 4\n",
        "EPOCHS = 100\n",
        "LATENT_DIM = 10\n",
        "BATCH_SIZE = 32\n",
        "TR_SIZE = 550_000"
      ],
      "execution_count": 0,
      "outputs": []
    },
    {
      "cell_type": "code",
      "metadata": {
        "id": "sOgyQAxGIVbz",
        "colab_type": "code",
        "colab": {}
      },
      "source": [
        "class PCA:\n",
        "    def __init__(self, latent_dim: int, ds: 'DSprites', subset: int=100_000):\n",
        "        x = ds.subset(subset)\n",
        "        self._width = x.shape[1]\n",
        "        self._height = x.shape[2]\n",
        "        self.mean = np.mean(x, axis=0)\n",
        "        self._latent_dim = latent_dim\n",
        "        self._D = self._width * self._height\n",
        "        x = (x - self.mean).reshape(-1, self._D)\n",
        "        self._e, V = tf.linalg.eigh(tf.matmul(x.T, x))\n",
        "        assert V.shape == (self._D, self._D)\n",
        "        # non-decreasing => take the last latent_dim cols!\n",
        "        self.V_k = V[:, -self._latent_dim:]\n",
        "    \n",
        "    def encode(self, x):\n",
        "        x = (x - self.mean).reshape(-1, self._D)\n",
        "        z = tf.matmul(x, self.V_k)\n",
        "        assert z.shape == (x.shape[0], self._latent_dim)\n",
        "        # our VAE encoders return z, mean, logvar\n",
        "        # and our data generator takes the mean (see generate_benchmarking_dataset)\n",
        "        # so we have to return z in the middle of a 3-tuple\n",
        "        return z, z, None\n",
        "    \n",
        "    def decode(self, z):\n",
        "        return tf.matmul(z, self.V_k, transpose_b=True).numpy().reshape(-1, self._width, self._height, 1) # + self.mean\n",
        "\n",
        "    @property\n",
        "    def explained_variance_ratio(self):\n",
        "        e = self._e.numpy()[::-1]       \n",
        "        return e[: self._latent_dim]/sum(e)\n",
        "\n",
        "class ICA:\n",
        "    def __init__(self, latent_dim: int, ds: 'DSprites', subset: int=100_000):\n",
        "        x = ds.subset(subset)\n",
        "        self._width = x.shape[1]\n",
        "        self._height = x.shape[2]\n",
        "        self._D = self._width * self._height\n",
        "        self._model = FastICA(n_components=latent_dim)\n",
        "        self._model.fit(x.reshape(-1, self._D))\n",
        "\n",
        "    def encode(self, x):\n",
        "        z = self._model.transform(x.reshape(-1, self._D))\n",
        "        return z, z, None\n",
        "\n",
        "    def decode(self, z):\n",
        "        return self._model.inverse_transform(z).reshape(-1, self._width, self._height, 1)"
      ],
      "execution_count": 0,
      "outputs": []
    },
    {
      "cell_type": "code",
      "metadata": {
        "id": "3X1zJ6n8HQ1K",
        "colab_type": "code",
        "colab": {}
      },
      "source": [
        "class DSprites:\n",
        "    class Latents(IntEnum):\n",
        "        COLOUR, SHAPE, SCALE, ORIENTATION, XPOS, YPOS = range(6)\n",
        "        \n",
        "    \"\"\"\n",
        "    A significant portion of this class is taken as-is from the manual\n",
        "    https://github.com/deepmind/dsprites-dataset/blob/master/dsprites_reloading_example.ipynb\n",
        "    \"\"\"\n",
        "    def __init__(self, path=\".\", download=False):\n",
        "        self._filename = 'dsprites_ndarray_co1sh3sc6or40x32y32_64x64.npz'\n",
        "        path = Path(path).absolute()\n",
        "        assert path.exists()\n",
        "        data = path / self._filename\n",
        "        if not data.exists():\n",
        "            if download:\n",
        "                subprocess.run([\"wget\", \"-O\", str(data),\n",
        "                                \"https://github.com/deepmind/dsprites-dataset/raw/master/dsprites_ndarray_co1sh3sc6or40x32y32_64x64.npz\"])\n",
        "            else:\n",
        "                raise ValueException(\"Can't find dataset, use download=True to download.\")\n",
        "        data = np.load(str(data), encoding='bytes', allow_pickle=True)\n",
        "\n",
        "        # ====\n",
        "\n",
        "        imgs = data['imgs']\n",
        "        metadata_raw = data['metadata'][()]\n",
        "        self._metadata = dict()\n",
        "        for k, v in metadata_raw.items():\n",
        "            self._metadata[k.decode()] = v\n",
        "\n",
        "        # NOTE: can't cast now because our notebook runs out of RAM. cast in map instead\n",
        "        # imgs = imgs.reshape(-1, 64, 64, 1).astype(np.float32)\n",
        "        self._imgs = imgs.reshape(-1, 64, 64, 1)\n",
        "\n",
        "        # for example: array([ 0,  0,  2, 37, 15, 22])\n",
        "        # i.e. the relative (normalised) change in latent factors\n",
        "        self._latents_classes = data['latents_classes']\n",
        "\n",
        "        # for example: array([1., 1., 0.7 , 5.96097068, 0.48387097, 0.70967742])\n",
        "        # i.e. the actual latent values used to generate the image\n",
        "        self._latents_values = data['latents_values']\n",
        "\n",
        "        # specification: the number of varying \"degrees\" of change in each\n",
        "        # dimension corresponding to an independent generative factor\n",
        "        # array([ 1,        3,      6,           40,  32,  32])\n",
        "        #       colour, shape,  scale,  orientation,   X,   Y\n",
        "        self._latents_sizes = self._metadata['latents_sizes']\n",
        "\n",
        "        # for easy conversion from latent vector to indices later (see latent_to_idx)\n",
        "        # essentially: array([737280, 245760,  40960,   1024,     32,      1])\n",
        "        self._latents_bases = np.r_[self._latents_sizes[::-1].cumprod()[::-1][1:], 1]\n",
        "    \n",
        "    def latent_size(self, latent: 'DSprites.Latents') -> int:\n",
        "        \"\"\"\n",
        "        :param latent: of type DSprites.Latents (an enum class)\n",
        "        :return: the maximum integer allowed for the specified `latent`\n",
        "        \"\"\"\n",
        "        return self._latents_sizes[latent.value]\n",
        "    \n",
        "    def to_idx(self, latents: np.array) -> int:\n",
        "        \"\"\"\n",
        "        convert latent vector into index that can then be used to index\n",
        "        the actual image in self._imgs\n",
        "        \"\"\"\n",
        "        return np.dot(latents, self._latents_bases).astype(int)\n",
        "    \n",
        "    def sample_latent(self, n: int=1, fixed: 'DSprites.Latents'=None) -> np.array:\n",
        "        \"\"\"\n",
        "        randomly samples `n` latent vectors\n",
        "\n",
        "        :param n: number samples\n",
        "        :param fixed: if not `None`, then in all samples, this latent is kept\n",
        "                     fixed based on a random draw. The rest of the latents are\n",
        "                     random.\n",
        "        :return: an `np.array` of shape nx6\n",
        "        \"\"\"\n",
        "        samples = np.zeros((n, self._latents_sizes.shape[0]))\n",
        "        for i, lat_size in enumerate(self._latents_sizes):\n",
        "            samples[:, i] = np.random.randint(lat_size, size=n)\n",
        "        if fixed:\n",
        "            samples[:, fixed] = np.random.randint(0, ds.latent_size(fixed))\n",
        "        return samples\n",
        "    \n",
        "    @property\n",
        "    def imgs(self) -> np.array:\n",
        "        return self._imgs\n",
        "\n",
        "    def subset(self, size=50_000) -> np.array:\n",
        "        \"\"\"\n",
        "        returns a subset of the images. (Workaround for memory constraints)\n",
        "        :param size: number of samples to return\n",
        "        \"\"\"\n",
        "        return self._imgs[np.random.choice(self._imgs.shape[0], size=size, replace=False)]\n",
        "\n",
        "def make_grid(tensor: np.array, nrow: int=8, padding: int=2, pad_value: int=0) -> np.array:\n",
        "    \"\"\"\n",
        "    adapted from: https://pytorch.org/docs/stable/_modules/torchvision/utils.html#make_grid\n",
        "    :param tensor: nxwxhxc np.array\n",
        "    :param nrow: number of images displayed in each row\n",
        "    :param padding: padding between images\n",
        "    :param pad_value: value used to pad\n",
        "    :return: np.array of dimension 3 (WxHxC) with all images arranged in a grid.\n",
        "\n",
        "    \"\"\"\n",
        "    if tensor.shape[0] == 1:\n",
        "        return tensor.squeeze()\n",
        "\n",
        "    # make the mini-batch of images into a grid\n",
        "    nmaps = tensor.shape[0]\n",
        "    xmaps = min(nrow, nmaps)\n",
        "    ymaps = int(math.ceil(float(nmaps) / xmaps))\n",
        "    height, width = int(tensor.shape[1] + padding), int(tensor.shape[2] + padding)\n",
        "    num_channels = tensor.shape[3]\n",
        "    grid = np.full((height * ymaps + padding, width * xmaps + padding, num_channels), pad_value, dtype=tensor.dtype)\n",
        "    k = 0\n",
        "    for y in range(ymaps):\n",
        "        for x in range(xmaps):\n",
        "            if k >= nmaps: break\n",
        "            ystart = y * height + padding\n",
        "            xstart = x * width + padding\n",
        "            grid[ystart:(ystart + height - padding), ...][:, xstart:(xstart + width - padding), :] = tensor[k]\n",
        "            k = k + 1\n",
        "    return grid.squeeze()\n",
        "\n",
        "def imshow(img: np.array, title: str='', ax: plt.Axes=None):\n",
        "    if not ax:\n",
        "        fig = plt.figure(figsize=(15, 15))\n",
        "        ax = fig.add_subplot(111)\n",
        "    ax.imshow(img, cmap='gray', interpolation='nearest')\n",
        "    ax.set_xticks(())\n",
        "    ax.set_yticks(())\n",
        "    if title:\n",
        "        ax.set_title(title)"
      ],
      "execution_count": 0,
      "outputs": []
    },
    {
      "cell_type": "code",
      "metadata": {
        "id": "aOXYY5EvHmIV",
        "colab_type": "code",
        "outputId": "030426c2-84a9-4930-846c-aafd20c0793e",
        "colab": {
          "base_uri": "https://localhost:8080/",
          "height": 454
        }
      },
      "source": [
        "ds = DSprites(download=True)\n",
        "test_batch = ds.subset(size=32)\n",
        "imshow(make_grid(test_batch))"
      ],
      "execution_count": 5,
      "outputs": [
        {
          "output_type": "display_data",
          "data": {
            "image/png": "[encoded data removed]",
            "text/plain": [
              "<Figure size 1080x1080 with 1 Axes>"
            ]
          },
          "metadata": {
            "tags": []
          }
        }
      ]
    },
    {
      "cell_type": "code",
      "metadata": {
        "id": "uioks1JIIQzw",
        "colab_type": "code",
        "colab": {}
      },
      "source": [
        "pca = PCA(LATENT_DIM, ds, subset=75_000)\n",
        "print(pca.explained_variance_ratio)\n",
        "print(sum(pca.explained_variance_ratio))\n",
        "\n",
        "# simple sanity check\n",
        "z, *_ = pca.encode(test_batch)\n",
        "fig = plt.figure(figsize=(15, 15))\n",
        "ax1 = fig.add_subplot(121)\n",
        "ax2 = fig.add_subplot(122)\n",
        "imshow(make_grid(test_batch), title='Original', ax=ax1)\n",
        "imshow(make_grid(pca.decode(z)), title='Reconstructed', ax=ax2)\n",
        "fig.subplots_adjust(wspace=0.01)\n",
        "plt.show()"
      ],
      "execution_count": 0,
      "outputs": []
    },
    {
      "cell_type": "code",
      "metadata": {
        "id": "FjtSJfkbH6hk",
        "colab_type": "code",
        "outputId": "f61d13d1-88d3-48fc-e1f1-c7db549c9169",
        "colab": {
          "base_uri": "https://localhost:8080/",
          "height": 259
        }
      },
      "source": [
        "vae4 = VAE(LATENT_DIM)\n",
        "# load pretrained model with 100 epochs (from 550k randomly sampled points)\n",
        "vae4.load_weights(f'./vae4/vae4_e100_550000')\n",
        "\n",
        "z, *_ = vae4.encode(test_batch)\n",
        "fig = plt.figure(figsize=(15, 15))\n",
        "ax1 = fig.add_subplot(121)\n",
        "ax2 = fig.add_subplot(122)\n",
        "imshow(make_grid(test_batch), title='Original', ax=ax1)\n",
        "imshow(make_grid(tf.nn.sigmoid(vae4.decode(z)).numpy()), title='Reconstructed', ax=ax2)\n",
        "fig.subplots_adjust(wspace=0.01)\n",
        "plt.show()"
      ],
      "execution_count": 6,
      "outputs": [
        {
          "output_type": "display_data",
          "data": {
            "image/png": "[encoded data removed]",
            "text/plain": [
              "<Figure size 1080x1080 with 2 Axes>"
            ]
          },
          "metadata": {
            "tags": []
          }
        }
      ]
    },
    {
      "cell_type": "code",
      "metadata": {
        "id": "mfoUuUazrRhu",
        "colab_type": "code",
        "colab": {}
      },
      "source": [
        "vae1 = VAE(LATENT_DIM)\n",
        "# load pretrained model with 100 epochs (from 550k randomly sampled points)\n",
        "vae1.load_weights(f'./vae1/vae1_e100_550000')\n",
        "\n",
        "# simple sanity check\n",
        "z, *_ = vae1.encode(test_batch)\n",
        "fig = plt.figure(figsize=(15, 15))\n",
        "ax1 = fig.add_subplot(121)\n",
        "ax2 = fig.add_subplot(122)\n",
        "imshow(make_grid(test_batch), title='Original', ax=ax1)\n",
        "imshow(make_grid(tf.nn.sigmoid(vae1.decode(z)).numpy()), title='Reconstructed', ax=ax2)\n",
        "fig.subplots_adjust(wspace=0.01)\n",
        "plt.show()"
      ],
      "execution_count": 0,
      "outputs": []
    },
    {
      "cell_type": "code",
      "metadata": {
        "id": "-ZKZbsDCrilT",
        "colab_type": "code",
        "colab": {}
      },
      "source": [
        "vae_untrained = VAE(LATENT_DIM)\n",
        "\n",
        "z, *_ = vae_untrained.encode(test_batch)\n",
        "fig = plt.figure(figsize=(15, 15))\n",
        "ax1 = fig.add_subplot(121)\n",
        "ax2 = fig.add_subplot(122)\n",
        "imshow(make_grid(test_batch), title='Original', ax=ax1)\n",
        "imshow(make_grid(tf.nn.sigmoid(vae_untrained.decode(z)).numpy()), title='Reconstructed', ax=ax2)\n",
        "fig.subplots_adjust(wspace=0.01)\n",
        "plt.show()"
      ],
      "execution_count": 0,
      "outputs": []
    },
    {
      "cell_type": "markdown",
      "metadata": {
        "id": "zqe-N9Kzf7xy",
        "colab_type": "text"
      },
      "source": [
        "# Generating $z^b_{diff}$\n",
        "\n",
        "for batch $b$ = 1 ... B:\n",
        "   1. sample $y_b$ from Unif(SCALE, XPOS, YPOS, ORIENTATION)\n",
        "   2. repeat L times to get $z^{l=1}_{diff}$, $\\dots$, $z^{l=L}_{diff}$:\n",
        "   \n",
        "        (a) sample latents vectors $v_{1, l}$ and $v_{2, l}$ where the value in the dimension corresponding to $y_b$ is kept fixed.\n",
        "\n",
        "        (b) generate images $x_{1, l}$ and $x_{2, l}$ from $Sim(v_{1, l})$ and $Sim(v_{2, l})$\n",
        "\n",
        "        (c) calculate $z_{1, l} = \\mu(x_{1, l})$ where $\\mu(.)$ is the (neural network) encoder portion that is responsible for outputting the mean of the posterior $q_\\phi(\\mathbf z| \\mathbf x) = \\mathcal N\\left(\\mathbf z; \\mu(\\mathbf x), \\Sigma(\\mathbf x)\\right)$; likewise $z_{2,l} = \\mu(x_{2, l})$ \n",
        "\n",
        "        (d) finally, calculate $z^l_{diff} = |z_{1, 1} - z_{2,l}|$\n",
        "\n",
        "3. we obtain $z^b_{diff} = \\frac{1}{L}\\sum_l^L z^l_{diff}$\n",
        "\n",
        "The `generate_benchmarking_dataset` function then returns $z^{b=1}_{diff}, \\dots, z^{b=B}_{diff}$  and their corresponding fixed latents $y_b$.\n",
        "\n",
        "> Note that **colour** and **shape** are not evaluated. **Colour** is understandable as all\n",
        "images are white, however, **shape** is conspicously left out, perhaps because the paper (and in our reproduced result) shows that none of the learnt latents encode **shape**."
      ]
    },
    {
      "cell_type": "code",
      "metadata": {
        "id": "1-M_RuyvIXsU",
        "colab_type": "code",
        "colab": {}
      },
      "source": [
        "def generate_benchmarking_dataset(model: VAE,\n",
        "                                  ds: DSprites, l: int,\n",
        "                                  batches: int,\n",
        "                                  with_shapes: bool=False) -> typing.Tuple[np.array, np.array]:\n",
        "    \"\"\"\n",
        "    :param model: must have an `encode` function that takes a tensor of shape\n",
        "                  N x W x H x C and returns a tuple (z, mean, logvar)\n",
        "                  where all three elements are of shape N x LATENT_DIM\n",
        "    :param ds: DSprites dataset                 \n",
        "    :param l: number of samples to draw for a given fixed latent. Corresponds\n",
        "              to the same L described in the paper.\n",
        "    :param batches: number of batches. Corresponds to the same B\n",
        "                    described in the paper.\n",
        "    :param with_shapes: should shapes be included as a fixed latent or ignored?\n",
        "                        By default it is ignored as the paper did too.\n",
        "    :return: a tuple of x and y where x is an array of shape  b x LATENT_DIM\n",
        "             and y is an array of length b. That is, x[b] = z^b_diff.\n",
        "    \"\"\"                                \n",
        "    x = []\n",
        "    y = []\n",
        "    # here, each batch is allowed to fix a different latent factor\n",
        "    for b in tqdm.trange(batches):\n",
        "        # low=2 because 0 is COLOUR which is always fixed and 1 is SHAPE\n",
        "        # but the paper doesn't evaluate SHAPEs\n",
        "        least_latent_idx = 1 if with_shapes else 2\n",
        "        y_fixed = DSprites.Latents(\n",
        "            np.random.randint(low=least_latent_idx, high=6, size=1)\n",
        "        )\n",
        "        assert y_fixed != DSprites.Latents.COLOUR and (with_shapes or y_fixed != DSprites.Latents.SHAPE)\n",
        "\n",
        "        # 2*l x LATENT_DIM: 2*l because for each l we take the difference of 2 Zs\n",
        "        _, mean, _ = model.encode(\n",
        "            ds.imgs[ds.to_idx(ds.sample_latent(n=(2 * l), fixed=y_fixed))]\n",
        "        )\n",
        "\n",
        "        # z_{1,l} = mean(x_{1,l}); z_{2,l} = mean(x_{2,l})\n",
        "        # z^b_diff = average_l(z^l_diff) where z^l_diff = |z_{1,l} - z_{2,l}|\n",
        "\n",
        "        zldiff = np.array([tf.abs(mean[i] - mean[i + 1]).numpy() for i in range(0, 2 * l, 2)])\n",
        "        assert zldiff.shape == (l, mean.shape[1])\n",
        "        zbdiff = np.mean(zldiff, axis=0)\n",
        "        assert zbdiff.shape == (mean.shape[1], )\n",
        "        x.append(zbdiff)\n",
        "        assert y_fixed.value >= least_latent_idx\n",
        "        # the integers are expected to start from 0 but we start from low=least_latent_idx\n",
        "        # hence, we have to shift it.\n",
        "        y.append(y_fixed.value - least_latent_idx)\n",
        "    return np.array(x), np.array(y)"
      ],
      "execution_count": 0,
      "outputs": []
    },
    {
      "cell_type": "markdown",
      "metadata": {
        "id": "-U0tlg8RgHFt",
        "colab_type": "text"
      },
      "source": [
        "# Quantitative measure: Linear classifer\n",
        "\n",
        "From Higgins et al. (2017):\n",
        "> We used a fully connected linear classifier to predict $p(y|\\mathbf z^b_{diff})$, where y is one of four generative factors (position X, position Y, scale\n",
        "and rotation). We used softmax output nonlinearity and a negative log likelihood loss function. The classifier was trained using the Adagrad (Duchi et al., 2011) optimisation algorithm with learning rate of 1e-2 until convergence.\n",
        "\n",
        "The code below is an exact translation of the excerpt above."
      ]
    },
    {
      "cell_type": "code",
      "metadata": {
        "id": "jQDYCGzNru9A",
        "colab_type": "code",
        "outputId": "c838f5b4-ddf8-46b4-cdc2-a64634c0d225",
        "colab": {
          "base_uri": "https://localhost:8080/",
          "height": 187
        }
      },
      "source": [
        "def get_linear_classifier(num_classes=4, input_dim=LATENT_DIM) -> tf.keras.Model:\n",
        "    \"\"\"\n",
        "    :param num_classes: number of output classes. By default, there are\n",
        "                        four: XPOS, YPOS, SCALE, ORIENTATION/ROTATION.\n",
        "    :return: keras model. A linear classifier that's essentially a multiclass\n",
        "             logistic regression.\n",
        "    \"\"\"\n",
        "    model = tf.keras.Sequential([\n",
        "       tf.keras.layers.InputLayer((input_dim,)),\n",
        "       tf.keras.layers.Dense(num_classes, activation='softmax')\n",
        "    ])\n",
        "    model.compile(optimizer=tf.keras.optimizers.Adagrad(learning_rate=1e-2),\n",
        "                  loss=tf.keras.losses.sparse_categorical_crossentropy,\n",
        "                  metrics=['accuracy'])\n",
        "    return model\n",
        "get_linear_classifier().summary()"
      ],
      "execution_count": 8,
      "outputs": [
        {
          "output_type": "stream",
          "text": [
            "Model: \"sequential_2\"\n",
            "_________________________________________________________________\n",
            "Layer (type)                 Output Shape              Param #   \n",
            "=================================================================\n",
            "dense_7 (Dense)              (None, 4)                 44        \n",
            "=================================================================\n",
            "Total params: 44\n",
            "Trainable params: 44\n",
            "Non-trainable params: 0\n",
            "_________________________________________________________________\n"
          ],
          "name": "stdout"
        }
      ]
    },
    {
      "cell_type": "markdown",
      "metadata": {
        "id": "S6l9oCCIxYxI",
        "colab_type": "text"
      },
      "source": [
        "## Evaluating the models\n",
        "\n",
        "In this experiement, we'll reproduce the results for $\\beta$-vae, regular vae, and PCA. From the paper, it states that\n",
        "\"[t]en replicas of each model with the same hyperparameters were trained using different random seeds to obtain disentangled representations. Each of the ten trained model replicas was evaluated three times using the disentanglement metric score algorithm, each time using a different random seed to initialise the linear classifier. We then discarded the bottom 50% of the thirty resulting scores and reported the remaining results. This was done to control for the outlier results from the few experiments that diverged during training.\".\n",
        "\n",
        "In summary, there are ten independent copies of each model each trained separately (different seeds used for weight initializations) but identically. Next, each of the ten models are evaulated thrice using the linear classifier and the bottom 50% of the thirty resulting scores are discarded.\n",
        "\n",
        "Here, instead of having ten independent copies of the models, we'll have one each but evaluated three times using the linear classifier. Therefore, instead of thirty scores per model, we will only have three. *Arguably, as long as our results do not diverge, a single model should suffice.*\n",
        "\n",
        "Later, we will also evaluate the models **with** shape included as the fixed generative factor to see how it affects the metric, despite none of the $z_i$s showing that it identified shape as an independent latent."
      ]
    },
    {
      "cell_type": "code",
      "metadata": {
        "id": "0bjBLwIUsHZM",
        "colab_type": "code",
        "colab": {}
      },
      "source": [
        "# how many times to repeat the experiment. Each repetition creates a\n",
        "# new linear classifier with different initial values\n",
        "REPEAT = 3\n",
        "# in each batch, we take the average of L zdiffs\n",
        "L = 64\n",
        "# take B batches, i.e. creating a dataset of size (B, LATENT_DIM)\n",
        "B = 10_000\n",
        "# section 4.2: The table in Fig. 6 (left) reports the classification accuracy of the disentanglement metric for 5,000 test samples\n",
        "E = 5_000"
      ],
      "execution_count": 0,
      "outputs": []
    },
    {
      "cell_type": "code",
      "metadata": {
        "id": "fCkGM3E82sFv",
        "colab_type": "code",
        "colab": {}
      },
      "source": [
        "def run_experiment(model: VAE, ds: DSprites, l: int, batches: int, test_batch: int,\n",
        "                   reps: int, with_shapes: bool=False, \n",
        "                   latent_subset: typing.Optional[typing.List[int]]=None,\n",
        "                   verbose: int=1) -> np.array:\n",
        "    \"\"\"\n",
        "    :param model: must have an `encode` function that takes a tensor of shape\n",
        "                  N x W x H x C and returns a tuple (z, mean, logvar)\n",
        "                  where all three elements are of shape N x LATENT_DIM\n",
        "    :param ds: DSprites object used to generate dataset                 \n",
        "    :param l: number of samples to draw for a given fixed latent. Corresponds\n",
        "              to the same L described in the paper.\n",
        "    :param batches: number of batches. Corresponds to the same B\n",
        "                    described in the paper.\n",
        "    :param test_batch: number of test batch. The paper used 5,000 test points\n",
        "                       to evulate the accuracy of the linear classifier.                   \n",
        "    :param reps: number of times to repeat this experiment.\n",
        "    :param with_shapes: should shapes be included as a latent factor that should\n",
        "                        be measured?\n",
        "    :param latent_subset: If none, all `LATENT_DIM` dimensions are used. Otherwise,\n",
        "                          will use the provided list to index the subset of\n",
        "                          dimensions desired: `z[:, latent_subset]`.\n",
        "    :param verbose: verbosity level of model.fit(..., verbose) where model\n",
        "                    is of type `tf.keras.Model`.\n",
        "    :return: an np.array of accuracies. This array is of length `reps`, where\n",
        "             each element corresponds to the maximum accuracy\n",
        "             obtained during training for that particular iteration.\n",
        "    \"\"\"\n",
        "    # create data (z^b_diff)s\n",
        "    x_train, y_train = generate_benchmarking_dataset(model, ds,\n",
        "                                                     l=l, batches=(batches + test_batch),\n",
        "                                                     with_shapes=with_shapes)\n",
        "    if latent_subset:\n",
        "        x_train = x_train[:, latent_subset]                                                    \n",
        "    x_train = x_train[: batches]\n",
        "    y_train = y_train[: batches]\n",
        "    x_test = x_train[-test_batch:]\n",
        "    y_test = y_train[-test_batch:]\n",
        "\n",
        "    assert x_train.shape == (B, len(latent_subset) if latent_subset else LATENT_DIM) and y_train.shape == (B, )\n",
        "    assert x_test.shape == (E, len(latent_subset) if latent_subset else LATENT_DIM) and y_test.shape == (E, )\n",
        "    assert ((y_train < (5 if with_shapes else 4)) & (y_train >= 0)).all()\n",
        "    assert ((y_test < (5 if with_shapes else 4)) & (y_test >= 0)).all()\n",
        "    \n",
        "    # show target class distribution\n",
        "    counts = dict(zip(*np.unique(y_train, return_counts=True)))\n",
        "    plt.bar([DSprites.Latents(k + (1 if with_shapes else 2)).name for k in counts.keys()], counts.values())\n",
        "    plt.title(f\"Distribution of fixed latents in {B:,} samples.\")\n",
        "    print(counts)\n",
        "\n",
        "    accuracies = []\n",
        "    for r in range(1, reps + 1):\n",
        "        print(f\"\\n\\n==========\\nExperiment {r}\")\n",
        "        linear_classifier = get_linear_classifier(num_classes=(5 if with_shapes else 4),\n",
        "                                                input_dim=(len(latent_subset) if latent_subset else LATENT_DIM))\n",
        "        # use this callback as a monitor - use an absurd number of epochs and stop\n",
        "        # only when the accuracy doesn't improve\n",
        "        until_convergence = tf.keras.callbacks.EarlyStopping(monitor='accuracy',\n",
        "                                                             min_delta=1e-5,\n",
        "                                                             patience=10)          \n",
        "        history = linear_classifier.fit(x_train, y_train,\n",
        "                                      batch_size=32, epochs=500,\n",
        "                                      callbacks=[until_convergence],\n",
        "                                      verbose=verbose)\n",
        "        accuracies.append(linear_classifier.evaluate(x_test, y_test)[-1])\n",
        "        \n",
        "    return np.array(accuracies)"
      ],
      "execution_count": 0,
      "outputs": []
    },
    {
      "cell_type": "markdown",
      "metadata": {
        "id": "QtEhauTFr5Im",
        "colab_type": "text"
      },
      "source": [
        "## Evaluating $\\beta$-VAE's quantitative performance ($\\beta$ = 4)"
      ]
    },
    {
      "cell_type": "code",
      "metadata": {
        "id": "-lRxNOZ5gJzV",
        "colab_type": "code",
        "colab": {}
      },
      "source": [
        "vae4_accs= run_experiment(vae4, ds, l=L, batches=B, test_batch=E, reps=REPEAT, with_shapes=False)"
      ],
      "execution_count": 0,
      "outputs": []
    },
    {
      "cell_type": "markdown",
      "metadata": {
        "id": "Zt9mWJTKtVP4",
        "colab_type": "text"
      },
      "source": [
        "## Evaluating VAE's quantitative performance ($\\beta$ = 1)"
      ]
    },
    {
      "cell_type": "code",
      "metadata": {
        "id": "mkEYpGPYhx_v",
        "colab_type": "code",
        "colab": {}
      },
      "source": [
        "vae1_accs = run_experiment(vae1, ds, l=L, batches=B, test_batch=E, reps=REPEAT, with_shapes=False)"
      ],
      "execution_count": 0,
      "outputs": []
    },
    {
      "cell_type": "markdown",
      "metadata": {
        "id": "q6MWwIsMtc6U",
        "colab_type": "text"
      },
      "source": [
        "## Evaluating untrained VAE's quantitative performance"
      ]
    },
    {
      "cell_type": "code",
      "metadata": {
        "id": "fkSIFlakpjQO",
        "colab_type": "code",
        "colab": {}
      },
      "source": [
        "vaeu_accs = run_experiment(vae_untrained, ds, l=L, batches=B, test_batch=E, reps=REPEAT, with_shapes=False)"
      ],
      "execution_count": 0,
      "outputs": []
    },
    {
      "cell_type": "markdown",
      "metadata": {
        "id": "rSde5JSRKQeP",
        "colab_type": "text"
      },
      "source": [
        "## Evaluating PCA's quantitative performance"
      ]
    },
    {
      "cell_type": "code",
      "metadata": {
        "id": "0rJlS-P_Iewg",
        "colab_type": "code",
        "colab": {}
      },
      "source": [
        "pca_accs= run_experiment(pca, ds, l=L, batches=B, test_batch=E, reps=REPEAT, with_shapes=False)"
      ],
      "execution_count": 0,
      "outputs": []
    },
    {
      "cell_type": "code",
      "metadata": {
        "id": "9TQ2K5hN-nvd",
        "colab_type": "code",
        "colab": {}
      },
      "source": [
        "print(vae4_accs)\n",
        "print(vae1_accs)\n",
        "print(vaeu_accs)\n",
        "print(pca_accs)\n",
        "\n",
        "print(np.mean(vae4_accs), np.std(vae4_accs))\n",
        "print(np.mean(vae1_accs), np.std(vae1_accs))\n",
        "print(np.mean(vaeu_accs), np.std(vaeu_accs))\n",
        "print(np.mean(pca_accs), np.std(pca_accs))"
      ],
      "execution_count": 0,
      "outputs": []
    },
    {
      "cell_type": "markdown",
      "metadata": {
        "id": "PRPVQNGB_5z7",
        "colab_type": "text"
      },
      "source": [
        "## Evaluating $\\beta$-VAE's quantitative performance ($\\beta$ = 4) with shapes included"
      ]
    },
    {
      "cell_type": "code",
      "metadata": {
        "id": "gVDsalxlAMSl",
        "colab_type": "code",
        "colab": {}
      },
      "source": [
        "vae4_accs_shapes = run_experiment(vae4, ds, l=L, batches=B, test_batch=E, reps=REPEAT, with_shapes=True)"
      ],
      "execution_count": 0,
      "outputs": []
    },
    {
      "cell_type": "markdown",
      "metadata": {
        "id": "vuv1e4EDAPKB",
        "colab_type": "text"
      },
      "source": [
        "## Evaluating VAE's quantitative performance ($\\beta$ = 1) with shapes included"
      ]
    },
    {
      "cell_type": "code",
      "metadata": {
        "id": "162cwtIjAPa5",
        "colab_type": "code",
        "colab": {}
      },
      "source": [
        "vae1_accs_shapes = run_experiment(vae1, ds, l=L, batches=B, test_batch=E, reps=REPEAT, with_shapes=True)"
      ],
      "execution_count": 0,
      "outputs": []
    },
    {
      "cell_type": "markdown",
      "metadata": {
        "id": "XCQDZD_JAPos",
        "colab_type": "text"
      },
      "source": [
        "## Evaluating untrained VAE's quantitative performance with shapes included"
      ]
    },
    {
      "cell_type": "code",
      "metadata": {
        "id": "fBmWr0qbAPw6",
        "colab_type": "code",
        "colab": {}
      },
      "source": [
        "vaeu_accs_shapes = run_experiment(vae_untrained, ds, l=L, batches=B, test_batch=E, reps=REPEAT, with_shapes=True)"
      ],
      "execution_count": 0,
      "outputs": []
    },
    {
      "cell_type": "markdown",
      "metadata": {
        "id": "_qwgnPawKXZ6",
        "colab_type": "text"
      },
      "source": [
        "## Evaluating PCA's quantitative with shapes included"
      ]
    },
    {
      "cell_type": "code",
      "metadata": {
        "id": "wfV2q2VZKYwk",
        "colab_type": "code",
        "colab": {}
      },
      "source": [
        "pca_accs_shapes = run_experiment(pca, ds, l=L, batches=B, test_batch=E, reps=REPEAT, with_shapes=True)"
      ],
      "execution_count": 0,
      "outputs": []
    },
    {
      "cell_type": "code",
      "metadata": {
        "id": "BM1rRO4MA_DG",
        "colab_type": "code",
        "colab": {}
      },
      "source": [
        "print(vae4_accs_shapes)\n",
        "print(vae1_accs_shapes)\n",
        "print(vaeu_accs_shapes)\n",
        "print(pca_accs_shapes)\n",
        "\n",
        "print(np.mean(vae4_accs_shapes), np.std(vae4_accs_shapes))\n",
        "print(np.mean(vae1_accs_shapes), np.std(vae1_accs_shapes))\n",
        "print(np.mean(vaeu_accs_shapes), np.std(vaeu_accs_shapes))\n",
        "print(np.mean(pca_accs_shapes), np.std(pca_accs_shapes))"
      ],
      "execution_count": 0,
      "outputs": []
    },
    {
      "cell_type": "markdown",
      "metadata": {
        "id": "Q8xTleg6lAJx",
        "colab_type": "text"
      },
      "source": [
        "# Qualitative measure\n",
        "\n",
        "In this section, the models are evaluated qualitativevly by observing the changes in latent activations ($z_i$) as we fix all but one generative latent factor. If the model disentangles generative factors well, the latent activation should be sensitive to (and only to) the corresponding fixed latent factor."
      ]
    },
    {
      "cell_type": "code",
      "metadata": {
        "id": "KYegProUrr0P",
        "colab_type": "code",
        "colab": {}
      },
      "source": [
        "SAMPLE_SIZE = 500\n",
        "sample_latents = ds.sample_latent(SAMPLE_SIZE)\n",
        "\n",
        "def pos_latent_heatmap(model, sample_latents, dim):\n",
        "    lats = sample_latents.copy()\n",
        "    heatmap = np.full(\n",
        "        (ds.latent_size(DSprites.Latents.YPOS),\n",
        "         ds.latent_size(DSprites.Latents.XPOS)),\n",
        "        0, dtype=np.float32\n",
        "    )\n",
        "    for x in range(ds.latent_size(DSprites.Latents.XPOS)):\n",
        "        lats[:, DSprites.Latents.XPOS] = x\n",
        "        for y in range(ds.latent_size(DSprites.Latents.YPOS)):\n",
        "            lats[:, DSprites.Latents.YPOS] = y\n",
        "            z, mean, logvar = model.encode(ds.imgs[ds.to_idx(lats)])\n",
        "            z = z.numpy()\n",
        "            # notice how it's [y, x] since the rows represent the y-axis\n",
        "            heatmap[y, x] = np.mean(z[:, dim])\n",
        "    return heatmap\n",
        "\n",
        "def latent_activations(latent: DSprites.Latents, model, sample_latents, dim):\n",
        "    lats = sample_latents.copy()\n",
        "    square_idxs = lats[:, DSprites.Latents.SHAPE] == 0\n",
        "    oval_idxs = lats[:, DSprites.Latents.SHAPE] == 1\n",
        "    heart_idxs = lats[:, DSprites.Latents.SHAPE] == 2\n",
        "    assert (square_idxs | oval_idxs | heart_idxs).all()\n",
        "    scales = {'square': [], 'oval': [], 'heart': []}\n",
        "    for l in range(ds.latent_size(latent)):\n",
        "        lats[:, latent] = l\n",
        "        z, mean, logvar = model.encode(ds.imgs[ds.to_idx(lats)])\n",
        "        z = z.numpy()\n",
        "        scales['square'].append(np.mean(z[square_idxs, dim]))\n",
        "        scales['oval'].append(np.mean(z[oval_idxs, dim]))\n",
        "        scales['heart'].append(np.mean(z[heart_idxs, dim]))\n",
        "    return scales\n",
        "\n",
        "def latent_shape_activations(model, sample_latents, dim):\n",
        "    lats = sample_latents.copy()\n",
        "    shapes = [[], [], []]\n",
        "    for l in range(ds.latent_size(DSprites.Latents.SHAPE)):\n",
        "        lats[:, DSprites.Latents.SHAPE] = l\n",
        "        z, mean, logvar = model.encode(ds.imgs[ds.to_idx(lats)])\n",
        "        z = z.numpy()\n",
        "        shapes[l] = z[:, dim]\n",
        "    return {'square': shapes[0], 'oval': shapes[1], 'heart': shapes[2]}\n",
        "\n",
        "\n",
        "def vary_latent(seed_img, model: VAE, dim: int,\n",
        "                zmin: float=-2, zmax: float=2, step: float=1,\n",
        "                activation: typing.Callable[[tf.Tensor], tf.Tensor]=None) -> np.array:\n",
        "    \"\"\"\n",
        "    :param seed_img: image used as seed when varying latents. This image\n",
        "                     will be encoded by `model.encode(seed_img)` and the\n",
        "                     resulting `z` latent vector will be varied. Should be\n",
        "                     of shape (B, W, H, C).\n",
        "    :param model: VAE model used to encode and decode latents                     \n",
        "    :param dim: the dimension to vary. This value must be 0 <= dim < LATENT_DIM\n",
        "    :param zmin: determines the range of `z` to vary. `z` is varied starting from\n",
        "    `z[dim] + zmin` to `z[dim] + zmax`. Must be a negative value.\n",
        "    :param zmax: determines the range of `z` to vary. `z` is varied starting from\n",
        "    `z[dim] + zmin` to `z[dim] + zmax`. Must be a positive value.\n",
        "    :param step: the step size used to increment `z` when varying `z[dim]`.\n",
        "    :param activation: activation function to apply on\n",
        "                       `activation(model.decode(z))`. None applied if `None`\n",
        "                       (default).\n",
        "    :return: a numpy array of shape (N, B, W, H, C) where:\n",
        "              - N: number of total images generated when varying `z` according\n",
        "                   to `zmin`, `zmax`, `step`.\n",
        "                   That is, N = 1 + abs(zmax - zmin) // step\n",
        "              - B: batch size. This is the same as `seed_img.shape[0]`\n",
        "              - W: image width. This is the same as `seed_img.shape[1]`\n",
        "              - H: image height. This is the same as `seed_img.shape[2]`\n",
        "              - C: image channel. This is the same as `seed_img.shape[3]`\n",
        "    \"\"\"\n",
        "    assert zmin < 0 and zmax > 0\n",
        "    if not activation:\n",
        "        activation = lambda x: x\n",
        "    z, *_ = model.encode(seed_img)\n",
        "    z = z.numpy()\n",
        "    z[:, dim] += zmin\n",
        "    reconstructed = []\n",
        "    reconstructed.append(activation(model.decode(z)))\n",
        "    for _ in range(int(abs(zmax - zmin) // step)):\n",
        "        z[:, dim] += step\n",
        "        reconstructed.append(activation(model.decode(z)))\n",
        "    reconstructed = np.flip(np.array(reconstructed), axis=0)\n",
        "    return reconstructed\n",
        "\n",
        "def show_latents(model, dims: list, ds: DSprites,\n",
        "                 reconstruction_activation_function: typing.Callable[[tf.Tensor], tf.Tensor]=None,\n",
        "                 save: typing.Optional[str]=None):\n",
        "    \"\"\"\n",
        "    Plots figure 7 in Higgins et al. (2017)\n",
        "\n",
        "    :param model: Any model that has the `encode` and `decode` functions.\n",
        "            `encode` is required to return a 3-tuple\n",
        "            (z, _, _) where z is the latent vector.\n",
        "    :param dims: List of dimensions to visualise.\n",
        "    :param ds: DSprites dataset\n",
        "    :param reconstruction_activation_function: Activation function to apply on\n",
        "                                               `activation(model.decode(z))`.\n",
        "                                               None applied if `None` (default).\n",
        "\n",
        "    :param save: If not none, save to path indicated.\n",
        "    \"\"\"\n",
        "    nrows = 9\n",
        "    ncols = 5\n",
        "    fig, ax = plt.subplots(nrows=nrows, ncols=ncols, figsize=(10, 18))\n",
        "    ax = ax.flatten()\n",
        "    for i, dim in enumerate(dims):\n",
        "        ax[i].imshow(pos_latent_heatmap(model, sample_latents, dim=dim),\n",
        "                     cmap='RdBu_r', interpolation='bilinear')\n",
        "        ax[i].set_title(f\"$z_{dim}$\")\n",
        "        ax[i].title.set_fontsize(15)\n",
        "        ax[i].set_xticks(())\n",
        "        ax[i].set_yticks(())\n",
        "        if i % ncols == 0:\n",
        "            ax[i].set_ylabel(\"position\")\n",
        "            ax[i].yaxis.label.set_fontsize(15)\n",
        "        \n",
        "    for i, dim in enumerate(dims, i + 1):\n",
        "        scale = latent_activations(DSprites.Latents.SCALE, model,\n",
        "                                   sample_latents, dim=dim)\n",
        "        ax[i].plot(scale['oval'], color='green')\n",
        "        ax[i].plot(scale['heart'], color='blue')\n",
        "        ax[i].plot(scale['square'], color='red')\n",
        "        ax[i].set_xticks(())\n",
        "        ax[i].set_yticks(())\n",
        "        if i % ncols == 0:\n",
        "            ax[i].set_ylabel(\"scale\")\n",
        "            ax[i].yaxis.label.set_fontsize(15)\n",
        "    \n",
        "    for i, dim in enumerate(dims, i + 1):\n",
        "        scale = latent_activations(DSprites.Latents.ORIENTATION,\n",
        "                                   model, sample_latents, dim=dim)\n",
        "        ax[i].plot(scale['oval'], color='green')\n",
        "        ax[i].plot(scale['heart'], color='blue')\n",
        "        ax[i].plot(scale['square'], color='red')\n",
        "        ax[i].set_xticks(())\n",
        "        ax[i].set_yticks(())\n",
        "        if i % ncols == 0:\n",
        "            ax[i].set_ylabel(\"rotation\")\n",
        "            ax[i].yaxis.label.set_fontsize(15)\n",
        "\n",
        "    def draw_whisker(ax, data, colour):\n",
        "        p = ax.boxplot(data, patch_artist=True, showfliers=False)\n",
        "        for i, patch in enumerate(p['boxes']):\n",
        "            patch.set(facecolor='white', edgecolor=colour[i])\n",
        "\n",
        "    for i, dim in enumerate(dims, i + 1):\n",
        "        shape = latent_shape_activations(model, sample_latents, dim=dim)\n",
        "        draw_whisker(ax[i], [shape['oval'], shape['heart'], shape['square']],\n",
        "                     colour=['green', 'blue', 'red'])\n",
        "        ax[i].set_xticks(())\n",
        "        ax[i].set_yticks(())\n",
        "        if i % ncols == 0:\n",
        "            ax[i].set_ylabel(\"shape\")\n",
        "            ax[i].yaxis.label.set_fontsize(15)\n",
        "\n",
        "    seed_img = ds.sample_latent(1)\n",
        "    # show ovals\n",
        "    seed_img[:, DSprites.Latents.SHAPE] = 1\n",
        "    seed_img = ds.imgs[ds.to_idx(seed_img)]\n",
        "    for i, dim in enumerate(dims, i + 1):\n",
        "        # we're only varying the latent of one seed_img, squeeze axis=1\n",
        "        # to get shape (N, W, H, C) where N = num images generated by varying\n",
        "        # latents, W = width, H = height, C = channels\n",
        "        recon =  vary_latent(seed_img, model, dim=dim,\n",
        "                             activation=reconstruction_activation_function).squeeze(axis=1)\n",
        "        for j in range(recon.shape[0]):\n",
        "            ax[i + j * 5].imshow(recon[j].squeeze(), cmap='gray', interpolation='nearest')\n",
        "            ax[i + j * 5].set_xticks(())\n",
        "            ax[i + j * 5].set_yticks(())\n",
        "\n",
        "    fig.subplots_adjust(wspace=0.1, hspace=0.1)\n",
        "    square_patch = mpatches.Patch(color='red', label='Square')\n",
        "    heart_patch = mpatches.Patch(color='blue', label='Heart')\n",
        "    oval_patch = mpatches.Patch(color='green', label='Oval')\n",
        "    plt.legend(handles=[square_patch, heart_patch, oval_patch], loc='lower center',\n",
        "               bbox_to_anchor=(-0.1, -0.35), ncol=3)\n",
        "    if save: plt.savefig(save)\n"
      ],
      "execution_count": 0,
      "outputs": []
    },
    {
      "cell_type": "code",
      "metadata": {
        "id": "m56XpxZT9NUl",
        "colab_type": "code",
        "colab": {}
      },
      "source": [
        "show_latents(vae4, dims=[9, 8, 0, 5, 6], ds=ds, reconstruction_activation_function=tf.nn.sigmoid, save=\"beta4.png\")"
      ],
      "execution_count": 0,
      "outputs": []
    },
    {
      "cell_type": "code",
      "metadata": {
        "id": "PXzlJr4RjwTK",
        "colab_type": "code",
        "colab": {}
      },
      "source": [
        "show_latents(vae1, dims=[0, 4, 6, 8, 9], ds=ds, reconstruction_activation_function=tf.nn.sigmoid, save=\"beta1.png\")"
      ],
      "execution_count": 0,
      "outputs": []
    },
    {
      "cell_type": "markdown",
      "metadata": {
        "id": "dCzyzFLpoVug",
        "colab_type": "text"
      },
      "source": [
        "# Thoughts on the $\\beta$-VAE metric\n",
        "\n",
        "\n",
        "Intuitively, $\\mathbf z_{\\text{diff}}$ is expected to be close to 0 at the dimension where the generative factor is kept fixed. Here, we plot all 10 dimensions of $\\mathbf z_{\\text{diff}}$ and observe that it is indeed the case for most of the generative factors.\n"
      ]
    },
    {
      "cell_type": "code",
      "metadata": {
        "id": "emz36SjWaeDO",
        "colab_type": "code",
        "outputId": "dc142db1-85b4-4c8f-ad14-785d599b171b",
        "colab": {
          "base_uri": "https://localhost:8080/",
          "height": 34
        }
      },
      "source": [
        "zdiff, target = generate_benchmarking_dataset(vae4, ds, L, 1000, with_shapes=True)"
      ],
      "execution_count": 11,
      "outputs": [
        {
          "output_type": "stream",
          "text": [
            "100%|██████████| 1000/1000 [00:32<00:00, 30.72it/s]\n"
          ],
          "name": "stderr"
        }
      ]
    },
    {
      "cell_type": "code",
      "metadata": {
        "id": "dlg5LdO8bsE7",
        "colab_type": "code",
        "outputId": "4d3c99dd-cbf4-48c8-eddc-ebd95a9b088d",
        "colab": {
          "base_uri": "https://localhost:8080/",
          "height": 319
        }
      },
      "source": [
        "# 0, 5, 6, 8, 9 are the latent dimensions corresponding to scale, rot, rot, xpos, and ypos\n",
        "data = []\n",
        "\n",
        "for i in range(5):\n",
        "    data.append(zdiff[target == i])\n",
        "fig, ax = plt.subplots(1, 5, figsize=(20, 4), sharey=True)\n",
        "ax = ax.flatten()\n",
        "\n",
        "box_params = dict(linewidth=1.5,\n",
        "                  facecolor='white',\n",
        "                  edgecolor=\"#f54242\")\n",
        "\n",
        "for i in range(5):\n",
        "    ax[i].set_title(str(DSprites.Latents(i + 1).name).title())\n",
        "    p = ax[i].boxplot(data[i], showfliers=False, patch_artist=True)\n",
        "    for patch in p['boxes']:\n",
        "        patch.set(facecolor='white', edgecolor='black')\n",
        "    if i == 1: p['boxes'][0].set(**box_params)\n",
        "    if i == 2:\n",
        "        p['boxes'][5].set(**box_params)\n",
        "        p['boxes'][6].set(**box_params)\n",
        "    if i == 3: p['boxes'][8].set(**box_params)\n",
        "    if i == 4: p['boxes'][9].set(**box_params)\n",
        "\n",
        "    ax[i].set_xticklabels(range(10))\n",
        "    if i == 2: ax[i].set_xlabel(\"Latent dimension $z_i$\")\n",
        "    if i == 0: ax[i].set_ylabel(r\"$z_{diff}$\")\n",
        "plt.savefig(\"latent_activation_discovery.pdf\")\n",
        "plt.show()"
      ],
      "execution_count": 31,
      "outputs": [
        {
          "output_type": "display_data",
          "data": {
            "image/png": "[encoded data removed]",
            "text/plain": [
              "<Figure size 1440x288 with 5 Axes>"
            ]
          },
          "metadata": {
            "tags": []
          }
        }
      ]
    },
    {
      "cell_type": "markdown",
      "metadata": {
        "id": "N2ZQvvWYosHX",
        "colab_type": "text"
      },
      "source": [
        "## Observation 1\n",
        "When the linear classifier is tasked with classifying 4 classes: scale, orientation, xpos, ypos, it achieves 100% accuracy easily as scale, xpos, and ypos have categorically lower $\\mathbf z_{\\text{diff}}$ values in their respective dimensions. To correctly classify the remaining class, orientation, the classifier has to simply identify the cases when none of these dimensions have values close to 0. Proof of this behaviour can be seen in Obs. 3.\n",
        "\n",
        "## Observation 2\n",
        "In other words, if we included shape as the 5th class for the classifier to predict, we expect to see a drop in accuracy as it can no longer easily distinguish between orientation and shape. If it follows the strategy in Obs. 1, it could go either way: shape or orientation. See confusion matrix/heatmap to see misclassifications.\n",
        "\n",
        "## Observation 3\n",
        "Observation 1 leads to another hypothesis, if we used just 3 dimensions (features) [0, 8, 9] and task the classifier with predicting the 4 classes as the authors did, we can still acheive 100% accuracy. All it has to do is identify when all 3 dimensions are non-zero to predict orientation!\n"
      ]
    },
    {
      "cell_type": "code",
      "metadata": {
        "id": "xB4ge1h5ll6Z",
        "colab_type": "code",
        "colab": {}
      },
      "source": [
        "contrived_example_accs = run_experiment(vae4, ds, l=L, batches=B, test_batch=E, reps=REPEAT, with_shapes=False, latent_subset=[0, 8, 9])"
      ],
      "execution_count": 0,
      "outputs": []
    },
    {
      "cell_type": "code",
      "metadata": {
        "id": "iByJpRbxtvDE",
        "colab_type": "code",
        "colab": {}
      },
      "source": [
        "contrived_example_accs\n",
        "print(np.mean(contrived_example_accs))\n",
        "print(np.std(contrived_example_accs))"
      ],
      "execution_count": 0,
      "outputs": []
    },
    {
      "cell_type": "code",
      "metadata": {
        "id": "Z3Fi0Jz12EYg",
        "colab_type": "code",
        "colab": {
          "base_uri": "https://localhost:8080/",
          "height": 833
        },
        "outputId": "c3f66fd3-409e-4807-a76f-744658daea1d"
      },
      "source": [
        "x_train, y_train = generate_benchmarking_dataset(vae4, ds, l=L, batches=(B + E), with_shapes=True)\n",
        "x_train = x_train[: B]\n",
        "y_train = y_train[: B]\n",
        "x_test = x_train[-E:]\n",
        "y_test = y_train[-E:]\n",
        "\n",
        "linear_classifier = get_linear_classifier(num_classes=5)\n",
        "until_convergence = tf.keras.callbacks.EarlyStopping(monitor='accuracy',\n",
        "                                                     min_delta=1e-5,\n",
        "                                                     patience=10)          \n",
        "history = linear_classifier.fit(x_train, y_train,\n",
        "                              batch_size=32, epochs=500,\n",
        "                              callbacks=[until_convergence],\n",
        "                              verbose=True)"
      ],
      "execution_count": 9,
      "outputs": [
        {
          "output_type": "stream",
          "text": [
            "100%|██████████| 15000/15000 [07:48<00:00, 32.03it/s]\n"
          ],
          "name": "stderr"
        },
        {
          "output_type": "stream",
          "text": [
            "Train on 10000 samples\n",
            "Epoch 1/500\n",
            "10000/10000 [==============================] - 1s 78us/sample - loss: 1.6380 - accuracy: 0.3597\n",
            "Epoch 2/500\n",
            "10000/10000 [==============================] - 1s 64us/sample - loss: 1.4944 - accuracy: 0.2913\n",
            "Epoch 3/500\n",
            "10000/10000 [==============================] - 1s 63us/sample - loss: 1.4266 - accuracy: 0.3077\n",
            "Epoch 4/500\n",
            "10000/10000 [==============================] - 1s 66us/sample - loss: 1.3757 - accuracy: 0.3202\n",
            "Epoch 5/500\n",
            "10000/10000 [==============================] - 1s 64us/sample - loss: 1.3339 - accuracy: 0.4091\n",
            "Epoch 6/500\n",
            "10000/10000 [==============================] - 1s 64us/sample - loss: 1.2984 - accuracy: 0.5894\n",
            "Epoch 7/500\n",
            "10000/10000 [==============================] - 1s 65us/sample - loss: 1.2672 - accuracy: 0.7495\n",
            "Epoch 8/500\n",
            "10000/10000 [==============================] - 1s 65us/sample - loss: 1.2394 - accuracy: 0.7941\n",
            "Epoch 9/500\n",
            "10000/10000 [==============================] - 1s 64us/sample - loss: 1.2144 - accuracy: 0.8117\n",
            "Epoch 10/500\n",
            "10000/10000 [==============================] - 1s 65us/sample - loss: 1.1915 - accuracy: 0.8090\n",
            "Epoch 11/500\n",
            "10000/10000 [==============================] - 1s 66us/sample - loss: 1.1706 - accuracy: 0.8109\n",
            "Epoch 12/500\n",
            "10000/10000 [==============================] - 1s 63us/sample - loss: 1.1512 - accuracy: 0.8126\n",
            "Epoch 13/500\n",
            "10000/10000 [==============================] - 1s 64us/sample - loss: 1.1331 - accuracy: 0.8178\n",
            "Epoch 14/500\n",
            "10000/10000 [==============================] - 1s 63us/sample - loss: 1.1163 - accuracy: 0.8149\n",
            "Epoch 15/500\n",
            "10000/10000 [==============================] - 1s 63us/sample - loss: 1.1005 - accuracy: 0.8139\n",
            "Epoch 16/500\n",
            "10000/10000 [==============================] - 1s 64us/sample - loss: 1.0856 - accuracy: 0.8136\n",
            "Epoch 17/500\n",
            "10000/10000 [==============================] - 1s 63us/sample - loss: 1.0716 - accuracy: 0.8123\n",
            "Epoch 18/500\n",
            "10000/10000 [==============================] - 1s 64us/sample - loss: 1.0583 - accuracy: 0.8117\n",
            "Epoch 19/500\n",
            "10000/10000 [==============================] - 1s 64us/sample - loss: 1.0457 - accuracy: 0.8164\n",
            "Epoch 20/500\n",
            "10000/10000 [==============================] - 1s 63us/sample - loss: 1.0338 - accuracy: 0.8107\n",
            "Epoch 21/500\n",
            "10000/10000 [==============================] - 1s 66us/sample - loss: 1.0224 - accuracy: 0.8098\n",
            "Epoch 22/500\n",
            "10000/10000 [==============================] - 1s 65us/sample - loss: 1.0115 - accuracy: 0.8081\n",
            "Epoch 23/500\n",
            "10000/10000 [==============================] - 1s 62us/sample - loss: 1.0011 - accuracy: 0.8086\n"
          ],
          "name": "stdout"
        }
      ]
    },
    {
      "cell_type": "code",
      "metadata": {
        "id": "ZvlyI-fmuM8k",
        "colab_type": "code",
        "colab": {
          "base_uri": "https://localhost:8080/",
          "height": 481
        },
        "outputId": "1add0076-f52b-44e9-cfe5-a398618e928c"
      },
      "source": [
        "preds = linear_classifier.predict(x_test)\n",
        "preds = np.argmax(preds, axis=1)\n",
        "conf_mat = np.empty(shape=(5, 5), dtype=np.uint8)\n",
        "for t in range(5):\n",
        "    for p in range(5):\n",
        "        conf_mat[t, p] = np.sum((y_test == t) & (preds == p))\n",
        "fig = plt.figure(figsize=(12, 7))\n",
        "ax = fig.add_subplot(1, 1, 1)\n",
        "img = ax.imshow(conf_mat, cmap='magma_r') # or magma_r?\n",
        "ax.set_xlabel(\"Predicted labels\")\n",
        "ax.set_ylabel(\"True labels\")\n",
        "ax.set_xticks(range(5))\n",
        "ax.set_yticks(range(5))\n",
        "ax.set_xticklabels([DSprites.Latents(i + 1).name.title() for i in range(5)])\n",
        "ax.set_yticklabels([DSprites.Latents(i + 1).name.title() for i in range(5)])\n",
        "ax.yaxis.label.set_fontsize(15)\n",
        "ax.xaxis.label.set_fontsize(15)\n",
        "ax.tick_params(labelsize=12)\n",
        "ax.set_title(r\"Confusion matrix of linear classifier trained on $\\beta$ = 4 VAE\", y=1.08,\n",
        "             fontdict={'fontsize': 15})\n",
        "fig.colorbar(img)\n",
        "ax.xaxis.tick_top()\n",
        "plt.savefig(\"confusion_matrix.png\");"
      ],
      "execution_count": 29,
      "outputs": [
        {
          "output_type": "display_data",
          "data": {
            "image/png": "[encoded data removed]",
            "text/plain": [
              "<Figure size 864x504 with 2 Axes>"
            ]
          },
          "metadata": {
            "tags": []
          }
        }
      ]
    },
    {
      "cell_type": "markdown",
      "metadata": {
        "id": "v5lHjM09W9hg",
        "colab_type": "text"
      },
      "source": [
        "# Questions:\n",
        "\n",
        "1. Each batch allowed different fixed latent $y$?\n",
        "    - currently: test set of 5000 points. The entire batch is considered the test set. In other words, there's only one batch (of size 5000)\n",
        "2. What's the value of **L** and **B**?\n",
        "    - currently: **L** = 32 and **B** = 5000\n",
        "3. How about repeating experiments 30 times to get the same number of scores as the paper? Would it even help? It's probably stable enough to take less than 30.\n",
        "    - currently: 1 model trained + 3 repetitions when evaluating quantitative performance."
      ]
    },
    {
      "cell_type": "markdown",
      "metadata": {
        "id": "xpdWGBeis5ll",
        "colab_type": "text"
      },
      "source": [
        "# TODO:\n",
        "\n",
        "1. ~repeat accuracy measure x number of times (see how paper implements it)~\n",
        "2. ~include SHAPE latent in the accuracy measure. I.e. 5 classes instead of 4~\n",
        "3. ~reproduce the plot that analyses the activation of $z_i$s based on varying generative latents~\n",
        "4. ~PCA and ICA~\n",
        "5. reproduce the plot that analyses the accuracy of each of the latents independently. Read why they argue that this is does not measure the independence.\n",
        "6. Validate this claim from Higgins et al. (2017):\n",
        "> For the 2D shapes dataset, we have found that the optimal values of $\\beta$ as determined by visual inspection match closely the optimal values as determined by the disentanglement metric.\n",
        "7. ~Instead of using the accuracy on the training set, use 10,000 points for training and 5,000 for testing (which gives the final accuracy) - see other paper (L = 64 in both cases).~\n",
        "8. There are 5 other metrics to test - see other paper.\n",
        "9. Try on other labelled synthetic datasets (esp. noisy dSprites, 3D Shapes etc.) - see other paper.\n",
        "10. Try factor-VAE?"
      ]
    }
  ]
}